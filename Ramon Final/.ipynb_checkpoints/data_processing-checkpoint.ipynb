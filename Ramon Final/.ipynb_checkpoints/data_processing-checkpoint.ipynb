{
 "cells": [
  {
   "cell_type": "code",
   "execution_count": 3,
   "metadata": {},
   "outputs": [],
   "source": [
    "import numpy as np\n",
    "import os, sys\n",
    "import csv\n",
    "import pandas as pd\n",
    "import matplotlib.pyplot as plt\n",
    "from importlib import reload"
   ]
  },
  {
   "cell_type": "code",
   "execution_count": 5,
   "metadata": {},
   "outputs": [],
   "source": [
    "raw_data_path = \"data/raw/\"\n",
    "clean_data_path = \"./data/clean/\"\n",
    "\n",
    "hz = 128\n",
    "time_to_cut = 3"
   ]
  },
  {
   "cell_type": "code",
   "execution_count": 8,
   "metadata": {},
   "outputs": [],
   "source": [
    "i = 0\n",
    "for filename in os.listdir(raw_data_path):\n",
    "    i += 1\n",
    "    if filename.find('csv') == -1: continue\n",
    "    label = \"happy\" if filename.find('sad') == -1 else \"sad\"\n",
    "    df = pd.read_csv(raw_data_path+filename, skiprows=1)\n",
    "    results = df[['EEG.AF3', 'EEG.T7', 'EEG.Pz', 'EEG.T8', 'EEG.AF4', 'POW.AF3.Theta', 'POW.AF3.Alpha', 'POW.AF3.BetaL', 'POW.AF3.BetaH', 'POW.AF3.Gamma', 'POW.T7.Theta', 'POW.T7.Alpha', 'POW.T7.BetaL', 'POW.T7.BetaH', 'POW.T7.Gamma', 'POW.Pz.Theta', 'POW.Pz.Alpha', 'POW.Pz.BetaL', 'POW.Pz.BetaH', 'POW.Pz.Gamma', 'POW.T8.Theta', 'POW.T8.Alpha', 'POW.T8.BetaL', 'POW.T8.BetaH', 'POW.T8.Gamma', 'POW.AF4.Theta', 'POW.AF4.Alpha', 'POW.AF4.BetaL', 'POW.AF4.BetaH', 'POW.AF4.Gamma']]\n",
    "    results = results.to_numpy()\n",
    "    results = results[hz*time_to_cut:-hz*time_to_cut]\n",
    "    np.save(clean_data_path+label+str(i)+\".npy\", results)\n",
    "    "
   ]
  },
  {
   "cell_type": "code",
   "execution_count": 8,
   "metadata": {},
   "outputs": [],
   "source": [
    "step_sec = 1\n",
    "window_sec = 2\n",
    "\n",
    "features_data_path = \"./data/features/\"\n",
    "\n",
    "id = 0\n",
    "for filename in os.listdir(clean_data_path):\n",
    "    data = np.load(clean_data_path+filename)\n",
    "    label_path = \"happy/\" if filename.find('sad') == -1 else \"sad/\"\n",
    "    gt = np.array([1 if filename.find('sad') == -1 else 0])\n",
    "    \n",
    "    for i in range(0, data.shape[0], step_sec * hz):\n",
    "        if i+window_sec*hz >= data.shape[0]: break\n",
    "        id += 1\n",
    "        \n",
    "        window = data[i:i+window_sec*hz,:]\n",
    "        raw_eeg = window[:,0:5]\n",
    "        min_f = np.min(raw_eeg, axis=0)\n",
    "        max_f = np.max(raw_eeg, axis=0)\n",
    "        avg_f = np.mean(raw_eeg, axis=0)\n",
    "        var_f = np.var(raw_eeg, axis=0)\n",
    "        med_f = np.median(raw_eeg, axis=0)\n",
    "        rest = np.nanmean(window[:,5:],axis=0)\n",
    "        features = np.concatenate([gt,min_f,max_f,avg_f,var_f,med_f,rest])\n",
    "        np.save(features_data_path+label_path+str(id)+\".npy\", features)\n",
    "        "
   ]
  },
  {
   "cell_type": "code",
   "execution_count": 33,
   "metadata": {},
   "outputs": [],
   "source": [
    "happy_path = \"./data/features/happy/\"\n",
    "sad_path = \"./data/features/sad/\"\n",
    "combined_path = \"./data/combined/\"\n",
    "\n",
    "happy = []\n",
    "sad = []\n",
    "combined = []\n",
    "\n",
    "for filename in os.listdir(happy_path):\n",
    "    if filename[0] == '.': continue\n",
    "    happy.append(np.load(happy_path + filename))\n",
    "    combined.append(np.load(happy_path + filename))\n",
    "\n",
    "for filename in os.listdir(sad_path):\n",
    "    if filename[0] == '.': continue\n",
    "    sad.append(np.load(sad_path + filename))\n",
    "    combined.append(np.load(sad_path + filename))"
   ]
  },
  {
   "cell_type": "code",
   "execution_count": 36,
   "metadata": {},
   "outputs": [],
   "source": [
    "avg_happy_features = np.mean(np.stack(happy),axis=0)\n",
    "avg_sad_features = np.mean(np.stack(sad),axis=0)\n",
    "max_combined_features = np.max(np.stack(combined),axis=0)\n",
    "\n",
    "normalized_happy = avg_happy_features / max_combined_features\n",
    "normalized_sad = avg_sad_features / max_combined_features"
   ]
  },
  {
   "cell_type": "code",
   "execution_count": 35,
   "metadata": {},
   "outputs": [
    {
     "name": "stdout",
     "output_type": "stream",
     "text": [
      "(51,)\n"
     ]
    }
   ],
   "source": [
    "print(max_combined_features.shape)"
   ]
  },
  {
   "cell_type": "code",
   "execution_count": 38,
   "metadata": {},
   "outputs": [
    {
     "data": {
      "image/png": "[encoded data removed]",
      "text/plain": [
       "<Figure size 432x288 with 1 Axes>"
      ]
     },
     "metadata": {
      "needs_background": "light"
     },
     "output_type": "display_data"
    }
   ],
   "source": [
    "preds = (normalized_happy, normalized_sad)\n",
    "colors = (\"red\", \"blue\")\n",
    "groups = (\"happy\", \"sad\")\n",
    "\n",
    "x = np.array(range(51))\n",
    "\n",
    "fig = plt.figure()\n",
    "ax = fig.add_subplot(1, 1, 1)\n",
    "ax.set(xlim=(0, 50), ylim=(0, 1))\n",
    "ax.plot((0,50), (0,50))\n",
    "plt.xlabel('Features')\n",
    "plt.ylabel('Strength')\n",
    "\n",
    "for color,group,pred in zip(colors,groups,preds):\n",
    "    ax.scatter(np.array(range(51)), pred, alpha=0.8, c=color, edgecolors='none', s=30, label=group)\n",
    "    \n",
    "plt.title('Results')\n",
    "plt.legend(loc=2)\n",
    "plt.show()"
   ]
  },
  {
   "cell_type": "code",
   "execution_count": 40,
   "metadata": {},
   "outputs": [],
   "source": [
    "np.save(\"data/max_vals.npy\", max_combined_features[1:])"
   ]
  },
  {
   "cell_type": "code",
   "execution_count": null,
   "metadata": {},
   "outputs": [],
   "source": []
  }
 ],
 "metadata": {
  "kernelspec": {
   "display_name": "Python 3",
   "language": "python",
   "name": "python3"
  },
  "language_info": {
   "codemirror_mode": {
    "name": "ipython",
    "version": 3
   },
   "file_extension": ".py",
   "mimetype": "text/x-python",
   "name": "python",
   "nbconvert_exporter": "python",
   "pygments_lexer": "ipython3",
   "version": "3.7.4"
  }
 },
 "nbformat": 4,
 "nbformat_minor": 4
}
